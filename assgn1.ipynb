{
  "nbformat": 4,
  "nbformat_minor": 0,
  "metadata": {
    "colab": {
      "provenance": [],
      "authorship_tag": "ABX9TyMNkqtWWSmau2nWYjWcSm3z",
      "include_colab_link": true
    },
    "kernelspec": {
      "name": "python3",
      "display_name": "Python 3"
    },
    "language_info": {
      "name": "python"
    }
  },
  "cells": [
    {
      "cell_type": "markdown",
      "metadata": {
        "id": "view-in-github",
        "colab_type": "text"
      },
      "source": [
        "<a href=\"https://colab.research.google.com/github/NoelG2002/ml_ai/blob/assign/assgn1.ipynb\" target=\"_parent\"><img src=\"https://colab.research.google.com/assets/colab-badge.svg\" alt=\"Open In Colab\"/></a>"
      ]
    },
    {
      "cell_type": "code",
      "execution_count": null,
      "metadata": {
        "colab": {
          "base_uri": "https://localhost:8080/"
        },
        "id": "dhn6yHBO-L54",
        "outputId": "c8eafa5e-1c96-4365-84fa-58df52e1b031"
      },
      "outputs": [
        {
          "output_type": "stream",
          "name": "stdout",
          "text": [
            "Sum= 52\n"
          ]
        }
      ],
      "source": [
        "#@title Sum of elements of list\n",
        "a=[10,14,13,8,7]\n",
        "s=0\n",
        "for num in a:\n",
        "  s=s+num \n",
        "print(\"Sum=\",s)"
      ]
    },
    {
      "cell_type": "code",
      "source": [
        "#@title Sequence of string\n",
        "st=input(\"Enter a string:\")\n",
        "print(\"Length=\",len(st))\n",
        "print(st[0:len(st)//2])\n",
        "  "
      ],
      "metadata": {
        "colab": {
          "base_uri": "https://localhost:8080/"
        },
        "id": "lR8UVSYD_pOc",
        "outputId": "993857b1-4565-4a6d-832c-435141424e01"
      },
      "execution_count": null,
      "outputs": [
        {
          "output_type": "stream",
          "name": "stdout",
          "text": [
            "Enter a string:helloworld\n",
            "Length= 10\n",
            "hello\n"
          ]
        }
      ]
    },
    {
      "cell_type": "code",
      "source": [
        "#@title Add 2 strings\n",
        "s1=input(\"Enter first string:\")\n",
        "s2=input(\"Enter second string:\")\n",
        "r=s1+s2\n",
        "print(r)\n",
        "print(\"Length:\",len(r))"
      ],
      "metadata": {
        "colab": {
          "base_uri": "https://localhost:8080/"
        },
        "id": "kg7rPZu0Cbzq",
        "outputId": "47564df5-56de-451c-aa46-09a2f4f85e4c"
      },
      "execution_count": null,
      "outputs": [
        {
          "output_type": "stream",
          "name": "stdout",
          "text": [
            "Enter first stringhello\n",
            "Enter second stringworld\n",
            "helloworld\n",
            "Length: 10\n"
          ]
        }
      ]
    },
    {
      "cell_type": "code",
      "source": [
        "#@title Changing values of tuples\n",
        "numbers=('78','45','32','19','82','77','40','39')\n",
        "num=list(numbers)\n",
        "num[2]=100\n",
        "print(num)"
      ],
      "metadata": {
        "colab": {
          "base_uri": "https://localhost:8080/"
        },
        "id": "IUX0goTyC0_n",
        "outputId": "9dc444a8-fe8b-47ff-ed3b-9f3af61ff140"
      },
      "execution_count": null,
      "outputs": [
        {
          "output_type": "stream",
          "name": "stdout",
          "text": [
            "['78', '45', 100, '19', '82', '77', '40', '39']\n"
          ]
        }
      ]
    },
    {
      "cell_type": "code",
      "source": [
        "#@title List operations\n",
        "lstA=[19,32,10,55,31,32,94,29,10,65,77,40,40]\n",
        "lstA.remove(32)\n",
        "print(lstA)\n",
        "while 40 in lstA:\n",
        "  lstA.remove(40)\n",
        "print(lstA)\n",
        "lstA.pop(5)\n",
        "print(lstA)\n",
        "lstA[8]=300\n",
        "print(lstA)\n",
        "lstA[2]+=200\n",
        "print(lstA)\n",
        "print(\"Length:\",len(lstA))\n",
        "print(\"Max value:\",max(lstA))\n",
        "s=0\n",
        "for i in lstA:\n",
        "   s=s+i\n",
        "print(\"sum:\",s)"
      ],
      "metadata": {
        "colab": {
          "base_uri": "https://localhost:8080/"
        },
        "id": "hSAmYW--EYc7",
        "outputId": "ba191cc7-516e-4c36-ac54-a00e05a35574"
      },
      "execution_count": null,
      "outputs": [
        {
          "output_type": "stream",
          "name": "stdout",
          "text": [
            "[19, 10, 55, 31, 32, 94, 29, 10, 65, 77, 40, 40]\n",
            "[19, 10, 55, 31, 32, 94, 29, 10, 65, 77]\n",
            "[19, 10, 55, 31, 32, 29, 10, 65, 77]\n",
            "[19, 10, 55, 31, 32, 29, 10, 65, 300]\n",
            "[19, 10, 255, 31, 32, 29, 10, 65, 300]\n",
            "Length: 9\n",
            "Max value: 300\n",
            "sum: 751\n"
          ]
        }
      ]
    },
    {
      "cell_type": "code",
      "source": [],
      "metadata": {
        "id": "6_z8OLA12kLn"
      },
      "execution_count": null,
      "outputs": []
    }
  ]
}